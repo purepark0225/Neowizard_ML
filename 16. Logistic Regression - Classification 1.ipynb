{
 "cells": [
  {
   "cell_type": "markdown",
   "id": "59108432",
   "metadata": {},
   "source": [
    "### Logistic Regression - Classification\n",
    "- 분류(Classification)\n",
    "    - Training Data 특성과 관계 등을 파악한 후에, 미지의 입력 데이터에 대해서 결과가 어떤 종류의 값으로 분류될 수 있는 지를 예측하는 것 \n",
    "    \n",
    "    ex) 스팸문자 분류 [Spam(1) or Ham(0)], 암 판별[악성종양(1) or 종양(0)]"
   ]
  },
  {
   "cell_type": "markdown",
   "id": "eb866a99",
   "metadata": {},
   "source": [
    "- 즉 Logistic Regression 알고리즘은, \n",
    "\n",
    "    1) Training Data 특성과 분포를 나타내는 최적의 직선을 찾고(Linear Regression)\n",
    "    \n",
    "    2) 그 직선을 기준으로 데이터를 위(1) 또는 아래(0) 등으로 분류(Classification) 해주는 알고리즘\n",
    "    \n",
    "    => 이러한 Logisitic Regression은 Classification 알고리즘 중에서도 정확도가 높은 알고리즘으로 알려져 있어서 Deep Learning에서 기본 Component로 사용되고 있음"
   ]
  },
  {
   "cell_type": "markdown",
   "id": "7d0cb6ce",
   "metadata": {},
   "source": [
    "### Classification - sigmoid function\n",
    "\n",
    "- 출력값 y가 1 또는 0만을 가져가야 하는 분류(classification) 시스템에서, 함수 값으로 0~1 사이의 값을 가지는 sigmoid 함수를 사용할 수 있음.\n",
    "\n",
    "=> 즉, linear regression 출력 Wx+b가 어떤 값을 갖더라도, 출력 함수로 sigmoid를 사용해서 \n",
    "\n",
    "    1) sigmoid 계산 값이 0.5보다 크면 결과로 1이 나올 확률이 높다는 것이기 때문에 출력값 y는 1로 정의\n",
    "    2) sigmoid 계산 값이 0.5미만이면 결과로 0이 나올 확률이 높다는 것이므로 출력값 y는 0으로 정의하여 classification 시스템을 구현할 수 있음\n",
    "    * sigmoid 함수의 실제 계산값 sigmoid(z)는 결과가 나타날 확률을 의미함\n",
    "\n",
    "(x, t) -> Regression(Wx+b) -> Classification(Sigmoid) -> y = 1 or 0"
   ]
  },
  {
   "cell_type": "markdown",
   "id": "257f8b43",
   "metadata": {},
   "source": [
    "### Classification - 손실함수(loss function), W, b\n",
    "\n",
    "- 분류시스템(classification) 최종 출력값 y는 sigmoid 함수에 의해 논리적으로 1 또는 0 값을 가지기 때문에, 연속값을 갖는 선형회귀 떄와는 다른 손실함수가 필요함 -> Cross entropy"
   ]
  }
 ],
 "metadata": {
  "kernelspec": {
   "display_name": "Python 3 (ipykernel)",
   "language": "python",
   "name": "python3"
  },
  "language_info": {
   "codemirror_mode": {
    "name": "ipython",
    "version": 3
   },
   "file_extension": ".py",
   "mimetype": "text/x-python",
   "name": "python",
   "nbconvert_exporter": "python",
   "pygments_lexer": "ipython3",
   "version": "3.9.7"
  }
 },
 "nbformat": 4,
 "nbformat_minor": 5
}
