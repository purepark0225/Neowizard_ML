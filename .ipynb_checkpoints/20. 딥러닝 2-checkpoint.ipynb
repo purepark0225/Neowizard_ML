{
 "cells": [
  {
   "cell_type": "markdown",
   "id": "5795b357",
   "metadata": {},
   "source": [
    "- Logistic Regression는 input -> Regression(z = X+W+b) -> Classification(sigmoid(z)) -> output 으로 진행\n",
    "- Deep Learning에서는 input -> 입력층 -> 은닉층 n개 -> 출력층 -> output 으로 진행되며,\n",
    "- 각 노드 내부는 1개의 logistic regression으로 구성되어 있어 이전 층의 출력값이 가중치가 곱해진 후 바이어스 값이 더해진 후에 다음 층의 입력값으로 전달이 되며, 이를 feed forward라고 한다."
   ]
  },
  {
   "cell_type": "markdown",
   "id": "d9225ae1",
   "metadata": {},
   "source": [
    "### 피드포워드(feed forward) - 표기법(notation)\n",
    "- 계층간 가중치 표기법(weight notation)\n",
    "    - 가중치 w(2)21 -> 계층 2의 노드에 적용되는 가중치로서, 1계층의 노드 1에서 2계층의 노드 2로 전달되는 신호를 강화 또는 약화시키는 가중치 **(즉, 가중치에서의 아래 숫자는 다음 계층의 노드 번호가 먼저 나옴)**\n",
    "\n",
    "\n",
    "- 노드의 바이어스 표기법(bias notation)\n",
    "    - 바이어스 b(2)1 -> 계층 2에 있는 첫 번째 노드(node 1)에 적용되는 바이어스\n",
    "    \n",
    "    \n",
    "- 노드의 선형회귀 계산값 표기법(linear regression notation)\n",
    "    - 선형회귀 계산값 z(2)2 -> 계층 2의 두 번째 노드(node 2) 선형회귀 계산값(z(2)2 = x1 * w(2)21 + x2 * w(2)22 + b(2)2\n",
    "    \n",
    "    \n",
    "- 노드의 출력 표기법(node output notation)\n",
    "    - 노드의 출력 값 a(2)2 -> 계층 2의 두 번째 노드(node 2) 출력값으로서, logistic regression 계산값. 활성화함수(activation function)로서 sigmoid를 사용한다면 a(2) = sigmoid(z(2)2)"
   ]
  },
  {
   "cell_type": "markdown",
   "id": "8bf0b6b5",
   "metadata": {},
   "source": [
    "### 피드포워드(feed forward) - 동작방식 (I)\n",
    "- 피드포워드(feed forward)\n",
    "    - 입력층(input layer)으로 데이터가 입력되고, 1개 이상으로 구성되는 은닉층(hidden layer)을 거쳐서 마지막에 있는 출력층(output layer)으로 출력값을 내보내는 과정\n",
    "    - 딥러닝에서는 이전 층(previous layer)에서 나온 출력값 -> 층과 층 사이에 적용되는 가중치(weight) 영향을 받은 다음 -> 다음 층(next layer)의 입력값으로 들어가는 것을 의미함\n",
    "\n",
    "\n",
    "- 입력층(input layer) 출력\n",
    "     - 딥러닝 입력층에서는 활성화 함수인 sigmoid를 적용하지 않고, 입력값 그대로 출력으로 내보내는 것이 관례화되어 있음."
   ]
  },
  {
   "cell_type": "markdown",
   "id": "dae1d043",
   "metadata": {},
   "source": [
    "### 피드포워드(feed forward) - 동작방식 (II)\n",
    "- 은닉층(hidden layer) 선형회귀 값\n",
    "\n",
    "- 은닉층(hidden layer) 출력"
   ]
  },
  {
   "cell_type": "markdown",
   "id": "445956df",
   "metadata": {},
   "source": [
    "### 피드포워드(feed forward) - 동작방식 (III)\n",
    "- 출력층(output layer) 선형회귀 값\n",
    "- 출력층(output layer) 출력\n",
    "    - y = a(3)1 = sigmoid(z(3)1)\n",
    "    - 출력값 a1, 입력 데이터에 대해 최종적으로 계산해야 하는 y 값이며, 이러한 y값과 정답 t와의 차이인 오차(loss)를 통해서 가중치와 비이어스를 학습해야 하는 것을 의미함\n",
    "    - 즉, 딥러닝에서는 출력층(output layer)에서의 출력값(y)과 정답(t)과의 차이를 이용하여, 오차가 최소가 되도록 각 층에 있는 가중치와 바이어스를 최적화해야 함."
   ]
  }
 ],
 "metadata": {
  "kernelspec": {
   "display_name": "Python 3 (ipykernel)",
   "language": "python",
   "name": "python3"
  },
  "language_info": {
   "codemirror_mode": {
    "name": "ipython",
    "version": 3
   },
   "file_extension": ".py",
   "mimetype": "text/x-python",
   "name": "python",
   "nbconvert_exporter": "python",
   "pygments_lexer": "ipython3",
   "version": "3.9.7"
  }
 },
 "nbformat": 4,
 "nbformat_minor": 5
}
