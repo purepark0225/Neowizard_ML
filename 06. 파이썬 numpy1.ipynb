{
 "cells": [
  {
   "cell_type": "code",
   "execution_count": 1,
   "id": "736808a0",
   "metadata": {},
   "outputs": [
    {
     "name": "stdout",
     "output_type": "stream",
     "text": [
      "A == [1 2]  , type == <class 'numpy.ndarray'>\n"
     ]
    }
   ],
   "source": [
    "import numpy\n",
    "\n",
    "A = numpy.array([1,2])\n",
    "print(\"A ==\", A, \" , type ==\", type(A))"
   ]
  },
  {
   "cell_type": "code",
   "execution_count": 2,
   "id": "9aaa45d2",
   "metadata": {},
   "outputs": [
    {
     "name": "stdout",
     "output_type": "stream",
     "text": [
      "A == [1 2] , type == <class 'numpy.ndarray'>\n"
     ]
    }
   ],
   "source": [
    "import numpy as np # 라이브러리에 별명을 지정하는 방식\n",
    "\n",
    "A = np.array([1,2])\n",
    "\n",
    "print(\"A ==\", A, \", type ==\", type(A))"
   ]
  },
  {
   "cell_type": "code",
   "execution_count": 3,
   "id": "21ec330b",
   "metadata": {},
   "outputs": [
    {
     "name": "stdout",
     "output_type": "stream",
     "text": [
      "result == 2.718281828459045 , type == <class 'numpy.float64'>\n"
     ]
    }
   ],
   "source": [
    "from numpy import exp # from을 이용해서 exp api를 바로 사용함\n",
    "\n",
    "result = exp(1)\n",
    "\n",
    "print(\"result ==\", result, \", type ==\", type(result))"
   ]
  },
  {
   "cell_type": "code",
   "execution_count": 4,
   "id": "13381cb3",
   "metadata": {},
   "outputs": [
    {
     "name": "stdout",
     "output_type": "stream",
     "text": [
      "result == 4.663123641894311 , type == <class 'numpy.float64'>\n"
     ]
    }
   ],
   "source": [
    "from numpy import *\n",
    "\n",
    "result = exp(1) + log(1.7) + sqrt(2)\n",
    "\n",
    "print(\"result ==\", result, \", type ==\", type(result))"
   ]
  },
  {
   "cell_type": "markdown",
   "id": "cfe31872",
   "metadata": {},
   "source": [
    "### numpy\n",
    "\n",
    "- vector/matrix 생성\n",
    "- 행렬 곱(dot product)\n",
    "- broadcast\n",
    "- index / slice / iterator\n",
    "- concatenate\n",
    "- useful function(loadtxt(), rand(), argmax(), ...)\n",
    "\n",
    "\n",
    "- numpy : 머신러닝 코드 개발할 경우 자주 사용되는 벡터, 행렬 등을 표현하고 연산할 때 반드시 필요한 라이브러리\n",
    "\n",
    "- numpy vs list\n",
    "    - 머신러닝에서 숫자, 사람, 동물 등을 인식하기 위해서는 이미지 데이터를 행렬로 변환하는 것이 중요함\n",
    "    - 행렬을 나타내기 위해서는 리스트를 사용할 수도 있지만, 행렬 연산이 직관적이지 않고 오류 가능성이 높기 때문에, 행렬 연산을 위해서는 numpy 사용이 필수임"
   ]
  },
  {
   "cell_type": "code",
   "execution_count": 5,
   "id": "8cd9ac22",
   "metadata": {},
   "outputs": [
    {
     "data": {
      "text/plain": [
       "[[1, 0], [0, 1], [1, 1], [1, 1]]"
      ]
     },
     "execution_count": 5,
     "metadata": {},
     "output_type": "execute_result"
    }
   ],
   "source": [
    "import numpy as np\n",
    "\n",
    "# 리스트로 행렬 표현\n",
    "\n",
    "A = [ [1,0], [0,1] ]\n",
    "B = [ [1,1], [1,1] ]\n",
    "\n",
    "A + B # 행렬 연산이 아닌 리스트 연산"
   ]
  },
  {
   "cell_type": "code",
   "execution_count": 6,
   "id": "02a4d3b0",
   "metadata": {},
   "outputs": [
    {
     "data": {
      "text/plain": [
       "array([[2, 1],\n",
       "       [1, 2]])"
      ]
     },
     "execution_count": 6,
     "metadata": {},
     "output_type": "execute_result"
    }
   ],
   "source": [
    "# numpy matrix, 직관적인\n",
    "\n",
    "A = np.array([ [1,0], [0,1] ])\n",
    "B = np.array([ [1,1], [1,1] ])\n",
    "\n",
    "A + B # 행렬 연산"
   ]
  },
  {
   "cell_type": "markdown",
   "id": "213f89bd",
   "metadata": {},
   "source": [
    "### 라이브러리 - numpy vector(1차원 배열)\n",
    "\n",
    "- 벡터(vector) 생성\n",
    "    - vector는 np.array([...])를 사용하여 생성함(import numpy as np)\n",
    "    - 머신러닝 코드 구현 시, 연산을 위해서 vector, matrix 등의 형상(shape), 차원(dimension)을 확인하는 것이 필요함\n",
    "    \n",
    "- 벡터의 산술연산\n",
    "    - vector 간 산술연산(+, -, X, /)은 벡터의 각각의 원소에 대해서 행새짐"
   ]
  },
  {
   "cell_type": "code",
   "execution_count": 9,
   "id": "115c7f82",
   "metadata": {},
   "outputs": [
    {
     "name": "stdout",
     "output_type": "stream",
     "text": [
      "A == [1 2 3] , B ==  [4 5 6]\n",
      "A.shape == (3,) , B.shape == (3,)\n",
      "A.ndim == 1 , B.ndim == 1\n"
     ]
    }
   ],
   "source": [
    "A = np.array([1, 2, 3])\n",
    "B = np.array([4, 5, 6])\n",
    "\n",
    "# vector A, B 출력\n",
    "print(\"A ==\", A, \", B == \", B)\n",
    "\n",
    "# vector A, B 형상 출력 => shape\n",
    "print(\"A.shape ==\", A.shape, \", B.shape ==\", B.shape)\n",
    "\n",
    "# vector A, B 차원 출력 => ndim\n",
    "print(\"A.ndim ==\", A.ndim, \", B.ndim ==\", B.ndim)"
   ]
  },
  {
   "cell_type": "code",
   "execution_count": 10,
   "id": "52bd8641",
   "metadata": {},
   "outputs": [
    {
     "name": "stdout",
     "output_type": "stream",
     "text": [
      "A + B == [5 7 9]\n",
      "A - B == [-3 -3 -3]\n",
      "A * B == [ 4 10 18]\n",
      "A / B == [0.25 0.4  0.5 ]\n"
     ]
    }
   ],
   "source": [
    "# vector 산술 연산\n",
    "\n",
    "print(\"A + B ==\", A+B)\n",
    "print(\"A - B ==\", A-B)\n",
    "print(\"A * B ==\", A*B)\n",
    "print(\"A / B ==\", A/B)"
   ]
  },
  {
   "cell_type": "markdown",
   "id": "3ad0eec6",
   "metadata": {},
   "source": [
    "### 라이브러리 - numpy matrix(행렬)\n",
    "- 행렬(matrix) 생성\n",
    "    - matrix는 vector와 마찬가지로 np.array([ [...], [...], ...])를 사용하여 생성함(import numpy as np)\n",
    "    \n",
    "- 형 변환(reshape)\n",
    "    - vector를 matrix로 변경하거나 matrix를 다른 형상의 matrix로 변경하기 위해서는 reshape()를 사용하여 행렬의 shape를 변경해야 함"
   ]
  },
  {
   "cell_type": "code",
   "execution_count": 11,
   "id": "56aee70f",
   "metadata": {},
   "outputs": [
    {
     "name": "stdout",
     "output_type": "stream",
     "text": [
      "A.shape == (2, 3) , B.shape == (2, 3)\n",
      "A.ndim == 2 , B.ndim == 2\n"
     ]
    }
   ],
   "source": [
    "A = np.array([ [1,2,3], [4,5,6] ])\n",
    "B = np.array([ [-1, -2, -3], [-4, -5, -6] ])\n",
    "\n",
    "# martix A, B 형상 출력 => shape\n",
    "print(\"A.shape ==\", A.shape, \", B.shape ==\", B.shape)\n",
    "\n",
    "# matrix A, B 차원 출력 => ndim\n",
    "print(\"A.ndim ==\", A.ndim, \", B.ndim ==\", B.ndim)"
   ]
  },
  {
   "cell_type": "code",
   "execution_count": 12,
   "id": "37a31aa7",
   "metadata": {},
   "outputs": [
    {
     "name": "stdout",
     "output_type": "stream",
     "text": [
      "C.shape == (3,)\n",
      "C.shape == (1, 3)\n"
     ]
    }
   ],
   "source": [
    "# vector 생성\n",
    "\n",
    "C = np.array([1,2,3])\n",
    "\n",
    "# vector C형상 출력 => shape\n",
    "print(\"C.shape ==\", C.shape)\n",
    "\n",
    "# vector를 (1,3) 행렬로 형 변환\n",
    "C = C.reshape(1,3)\n",
    "\n",
    "print(\"C.shape ==\", C.shape)"
   ]
  }
 ],
 "metadata": {
  "kernelspec": {
   "display_name": "Python 3 (ipykernel)",
   "language": "python",
   "name": "python3"
  },
  "language_info": {
   "codemirror_mode": {
    "name": "ipython",
    "version": 3
   },
   "file_extension": ".py",
   "mimetype": "text/x-python",
   "name": "python",
   "nbconvert_exporter": "python",
   "pygments_lexer": "ipython3",
   "version": "3.9.7"
  }
 },
 "nbformat": 4,
 "nbformat_minor": 5
}
