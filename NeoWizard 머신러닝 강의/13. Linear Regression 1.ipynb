{
 "cells": [
  {
   "cell_type": "markdown",
   "id": "af41aac6",
   "metadata": {},
   "source": [
    "- 회귀(Regression) \n",
    "Training Data를 이용하여 데이터의 특성과 상관관계 등을 파악하고, 그 결과를 바탕으로 Training Data에 없는 미지의 데이터가 주어졌을 경우에, 그 결과를 연속적인 (숫자) 값으로 예측하는 것\n",
    "\n",
    "예) 공부시간과 시험 성적의 관계\n",
    "\n",
    "- 학습의 개념\n",
    "\n",
    "step 1) analyze training data\n",
    "\n",
    "    - 학습데이터는 입력(x)인 공부시간에 비례해서 출력(y)인 시험성적도 증가하는 경향이 있음\n",
    "    - 즉, 입력(x)과 출력(y)은 y = Wx + b 형태로 나타낼 수 있음\n",
    "    \n",
    "step 2)\n",
    "\n",
    "    - 다양한 y = Wx + b 직선 중에, training data의 특성을 가장 잘 표현할 수 있는 가중치 W(기울기), 바이어스 b(y절편)를 찾는 것이 학습(Learning) 개념임\n",
    "    - 머신러닝에서는, 기울기 W는 가중치(weight), y 절편 b는 바이어스(bias)라고 함"
   ]
  },
  {
   "cell_type": "markdown",
   "id": "b3f4a8fe",
   "metadata": {},
   "source": [
    "- training data의 정답(t)과 직선 y = Wx + b 값의 차이인 오차(error)는,\n",
    "\n",
    "오차(error) = t - y = t - (Wx+b)으로 계산되며, 오차가 크다면, 우리가 임의로 설정한 직선의 가중치와 바이어스 값이 잘못된 것이고, 오차가 작다면 직선의 가중치와 바이어스 값이 잘된 것이기 때문에 미래값 예측도 정확할 수 있다고 예상할 수 있음\n",
    "\n",
    "- 머신러닝의 regression 시스템은, 모든 데이터의 오차(error) = t-y = t-(Wx+b)의 합이 최소가 되서, 미래값을 잘 예측할 수 있는 가중치 W와 바이어스 b값을 찾아야 함."
   ]
  },
  {
   "cell_type": "markdown",
   "id": "ba70b6b5",
   "metadata": {},
   "source": [
    "### regression - 손실함수(loss function)\n",
    "\n",
    "- 손실함수(loss function/cost function)는, training data의 정답(t)과 입력(x)에 대한 계산값 y의 차이를 모두 더해 수식으로 나타낸 것'\n",
    "- 각각의 오차인 (t-y)를 모두 더해서 손실함수(loss function)을 구하면 각각의 오차가 (+), (-) 등이 동시에 존재하기 때문에 오차의 합이 0이 나올 수도 있음. 즉, 0이라는 것이 최소 오차값인지 아닌지를 판별하는 것이 어려움.\n",
    "- 손실함수에서 오차(error)를 계산할 때는 (t-y)^2 = (t-[Wx+b])^2을 사용함. 즉 오차는 언제나 양수이며, 제곱을 하기 때문에 정답과 계산값 차이가 크다면, 제곱에 의해 오차는 더 큰 값을 가지게 되어 머신러닝 학습에 있어 장점을 가짐.\n",
    "- x와 t는 training data에서 주어지는 값이므로, 손실함수(loss function)인 E(W, b)는 결국 W와 b에 영향을 받는 함수임.\n",
    "- E(W, b)값이 작다는 것은 정답(t, target)과 y = Wx+b에 의해 계산된 값의 평균 오차가 작다는 의미이며,\n",
    "- 평균 오차가 작다는 것은 미지의 데이터 x가 주어질 경우, 확률적으로 미래의 결과값도 오차가 작을 것이라고 추측할 수 있음\n",
    "- 이처럼 training data를 바탕으로 손실함수 E(W, b)가 최소값을 갖도록 (W, b)를 구하는 것이 (linear) regression model의 최종 목적임."
   ]
  }
 ],
 "metadata": {
  "kernelspec": {
   "display_name": "Python 3 (ipykernel)",
   "language": "python",
   "name": "python3"
  },
  "language_info": {
   "codemirror_mode": {
    "name": "ipython",
    "version": 3
   },
   "file_extension": ".py",
   "mimetype": "text/x-python",
   "name": "python",
   "nbconvert_exporter": "python",
   "pygments_lexer": "ipython3",
   "version": "3.9.7"
  }
 },
 "nbformat": 4,
 "nbformat_minor": 5
}
