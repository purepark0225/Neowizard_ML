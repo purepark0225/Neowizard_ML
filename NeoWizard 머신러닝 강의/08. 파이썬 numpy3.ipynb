{
 "cells": [
  {
   "cell_type": "markdown",
   "id": "13dd3097",
   "metadata": {},
   "source": [
    "### 라이브러리 - numpy concatenate(...)\n",
    "- 행렬에 행(row) 또는 열(column) 추가하기 위한 numpy.concatenate(...)\n",
    "    - 머신러닝의 회귀(regression) 코드 구현 시 가중치(weight)와 바이어스(bias)를 별도로 구분하지 않고 하나의 행렬로 취급하기 위한 프로그래밍 구현 기술"
   ]
  },
  {
   "cell_type": "code",
   "execution_count": 4,
   "id": "78b86cbb",
   "metadata": {},
   "outputs": [
    {
     "name": "stdout",
     "output_type": "stream",
     "text": [
      "(2, 3)\n",
      "(2, 1)\n",
      "[[10 20 30]\n",
      " [40 50 60]\n",
      " [70 80 90]]\n",
      "[[  10   20   30 1000]\n",
      " [  40   50   60 2000]]\n"
     ]
    }
   ],
   "source": [
    "# 행렬에 열과 행 추가\n",
    "import numpy as np\n",
    "\n",
    "A = np.array([ [10, 20, 30], [40, 50, 60] ]) # 2X3 행렬 생성\n",
    "\n",
    "print(A.shape)\n",
    "\n",
    "# A matrix에 행(row) 추가할 행렬, 1행 3열로 reshape / reshape를 하지 않으면 행렬 특성을 갖지 못함\n",
    "# 행을 추가하기 때문에 우선 열을 3열로 만들어야 함.\n",
    "row_add = np.array([70, 80, 90]).reshape(1,3)\n",
    "\n",
    "# A matrix에 열(column) 추가할 행렬, 2행 1열로 생성\n",
    "# 열을 추가하기 때문에 우선 행을 2행으로 만들어야 함.\n",
    "column_add = np.array([1000, 2000]).reshape(2,1)\n",
    "print(column_add.shape)\n",
    "\n",
    "# numpy.concatenate 에서 axis = 0행(row) 기준\n",
    "# A 행렬에 row_add 행렬 추가\n",
    "B = np.concatenate((A, row_add), axis = 0)\n",
    "\n",
    "print(B)\n",
    "\n",
    "# numpy.concatenate 에서 axis = 1열(column) 기준\n",
    "# B 행렬에 column_add 행렬 추가\n",
    "C = np.concatenate((A, column_add), axis = 1)\n",
    "\n",
    "print(C)"
   ]
  },
  {
   "cell_type": "markdown",
   "id": "30a3fec0",
   "metadata": {},
   "source": [
    "### 라이브러리 - numpy useful function(I)\n",
    "- seperator 로 구분된 파일에서 데이터를 읽기 위한 numpy.loadtxt(...)\n",
    "\n",
    "- [예제] 다음과 같이 콤마(,)로 분리된 데이터 파일을 read하기 위해서는 np.loadtxt(\"파일이름\", seperator = ',') 호출함. 리턴값은 행렬이기 때문에 인덱싱 또는 슬라이싱을 이용하여 데이터를 분리할 필요 있음\n",
    "    - 머신러닝 코드에서 입력데이터와 정답데이터를 분리하는 프로그래밍 기법"
   ]
  },
  {
   "cell_type": "code",
   "execution_count": 22,
   "id": "a1f645e5",
   "metadata": {},
   "outputs": [
    {
     "name": "stdout",
     "output_type": "stream",
     "text": [
      "x_data.ndim =  2 , x_data.shape =  (25, 3)\n",
      "t_data.ndim =  2 , t_data.shape =  (25, 1)\n"
     ]
    }
   ],
   "source": [
    "loaded_data = np.loadtxt('./data-01.csv', delimiter = ',', dtype = np.float32) # ./는 현재 디렉토리 라는 의미\n",
    "\n",
    "x_data = loaded_data[:, 0:-1] # 모든 행의 데이터와 1-3열까지의 데이터\n",
    "t_data = loaded_data[:, [-1]] # 모든 행의 데이터와 4열의 데이터\n",
    "\n",
    "# 데이터 차원 및 shape 확인\n",
    "print(\"x_data.ndim = \", x_data.ndim, \", x_data.shape = \", x_data.shape)\n",
    "print(\"t_data.ndim = \", t_data.ndim, \", t_data.shape = \", t_data.shape)"
   ]
  },
  {
   "cell_type": "markdown",
   "id": "2e078e67",
   "metadata": {},
   "source": [
    "### 라이브러리 - numpy useful function (II)"
   ]
  },
  {
   "cell_type": "code",
   "execution_count": 23,
   "id": "c99a3f25",
   "metadata": {},
   "outputs": [
    {
     "name": "stdout",
     "output_type": "stream",
     "text": [
      "random_number1 == [0.57756496 0.19113629 0.5739095 ] , random_number1.shape == (3,)\n",
      "random_number2 == [[0.92333866 0.76994179 0.72648337]] , random_number2.shape == (1, 3)\n",
      "random_number3 == [[0.8118411 ]\n",
      " [0.65858519]\n",
      " [0.87383261]] , random_number3.shape == (3, 1)\n"
     ]
    }
   ],
   "source": [
    "# numpy.random.rand(...)\n",
    "\n",
    "# 0 ~ 1 사이의 random number 발생/ 임의의 실수 값을 리턴해줌, 가중치나 bias 등을 임의로 설정할 때 자주 사용\n",
    "\n",
    "random_number1 = np.random.rand(3)\n",
    "random_number2 = np.random.rand(1,3)\n",
    "random_number3 = np.random.rand(3,1)\n",
    "\n",
    "print(\"random_number1 ==\", random_number1, \", random_number1.shape ==\", random_number1.shape)\n",
    "print(\"random_number2 ==\", random_number2, \", random_number2.shape ==\", random_number2.shape)\n",
    "print(\"random_number3 ==\", random_number3, \", random_number3.shape ==\", random_number3.shape)"
   ]
  },
  {
   "cell_type": "code",
   "execution_count": 24,
   "id": "eba42fad",
   "metadata": {},
   "outputs": [
    {
     "name": "stdout",
     "output_type": "stream",
     "text": [
      "np.sum(x) == 20\n",
      "np.exp(x) == [   7.3890561    54.59815003  403.42879349 2980.95798704]\n",
      "np.log(x) == [0.69314718 1.38629436 1.79175947 2.07944154]\n"
     ]
    }
   ],
   "source": [
    "# numpy.sum(...), numpy.exp(...), numpy.log(...)\n",
    "# 벡터나 행렬의 각 원소에 대해 각각 계산하여 리턴\n",
    "\n",
    "x = np.array([2, 4, 6, 8])\n",
    "\n",
    "print(\"np.sum(x) ==\", np.sum(x))\n",
    "print(\"np.exp(x) ==\", np.exp(x))\n",
    "print(\"np.log(x) ==\", np.log(x))"
   ]
  },
  {
   "cell_type": "markdown",
   "id": "a1bc7539",
   "metadata": {},
   "source": [
    "### 라이브러리 - numpy useful function(III)"
   ]
  },
  {
   "cell_type": "code",
   "execution_count": 25,
   "id": "5c9256c4",
   "metadata": {},
   "outputs": [
    {
     "name": "stdout",
     "output_type": "stream",
     "text": [
      "np.max(X) == 8\n",
      "np.min(X) == 2\n",
      "np.argmax(X) == 3\n",
      "np.argmin(X) == 0\n"
     ]
    }
   ],
   "source": [
    "# numpy.max(), numpy.min(), numpy.argmax(), numpy.argmin()\n",
    "# numpy.max(), numpy.min() 은 데이터가 벡터인 경우 원소 중에서 최소값/최대값을 리턴\n",
    "# numpy.argmax(), numpy.argmin() 은 벡터에서 최대값/최소값의 인덱스를 리턴\n",
    "\n",
    "X = np.array([2, 4, 6, 8])\n",
    "\n",
    "print(\"np.max(X) ==\", np.max(X))\n",
    "print(\"np.min(X) ==\", np.min(X))\n",
    "print(\"np.argmax(X) ==\", np.argmax(X))\n",
    "print(\"np.argmin(X) ==\", np.argmin(X))"
   ]
  },
  {
   "cell_type": "code",
   "execution_count": 26,
   "id": "850b69fc",
   "metadata": {},
   "outputs": [
    {
     "name": "stdout",
     "output_type": "stream",
     "text": [
      "A.shape == (3, 3) , A == [[1. 1. 1.]\n",
      " [1. 1. 1.]\n",
      " [1. 1. 1.]]\n",
      "B.shape==  (3, 2) , B == [[0. 0.]\n",
      " [0. 0.]\n",
      " [0. 0.]]\n"
     ]
    }
   ],
   "source": [
    "# numpy.ones(), numpy.zeros()\n",
    "# 주어진 배열의 형상을 1과 0으로 각각 바꿔준다, concatenate와 같이 자주 쓰임\n",
    "\n",
    "A = np.ones([3, 3])\n",
    "print(\"A.shape ==\", A.shape, \", A ==\", A)\n",
    "B = np.zeros([3, 2])\n",
    "print(\"B.shape== \", B.shape, \", B ==\", B)"
   ]
  },
  {
   "cell_type": "code",
   "execution_count": 27,
   "id": "ca0ce98d",
   "metadata": {
    "scrolled": true
   },
   "outputs": [
    {
     "name": "stdout",
     "output_type": "stream",
     "text": [
      "np.max(X) == [2 5 8]\n",
      "np.mix(X) == [0 2 3]\n",
      "np.max(X) == [6 3 8]\n",
      "np.mix(X) == [2 1 0]\n",
      "np.argmax(X) == [0 2 2]\n",
      "np.argmix(X) == [2 1 1]\n",
      "np.argmax(X) == [0 2 2]\n",
      "np.argmix(X) == [2 1 1]\n"
     ]
    }
   ],
   "source": [
    "# axis 참고 http://taewan.kim/post/numpy_sum_axis\n",
    "# https://pybasall.tistory.com/129?category=987170\n",
    "# 배열은 리스트의 중첩이고, axis 축 개념은 가장 바깥 리스트에서 안쪽 리스트 순으로 0부터 이름을 붙인 것\n",
    "\n",
    "X = np.array([ [2, 4, 6], [1, 2, 3], [0, 5, 8] ])\n",
    "\n",
    "print(\"np.max(X) ==\", np.max(X, axis = 0)) # axis = 0, 열기준(각 열의 최대, 이동은 행의 좌우로 하므로 axis는 0) => 이 부분 다시 확인\n",
    "print(\"np.mix(X) ==\", np.min(X, axis = 0)) # axis = 0, 열기준\n",
    "\n",
    "print(\"np.max(X) ==\", np.max(X, axis = 1)) # axis = 1, 행기준\n",
    "print(\"np.mix(X) ==\", np.min(X, axis = 1)) # axis = 1, 행기준\n",
    "\n",
    "print(\"np.argmax(X) ==\", np.argmax(X, axis = 0)) # axis = 0, 열기준\n",
    "print(\"np.argmix(X) ==\", np.argmin(X, axis = 0)) # axis = 0, 열기준\n",
    "\n",
    "print(\"np.argmax(X) ==\", np.argmax(X, axis = 0)) # axis = 1, 행기준\n",
    "print(\"np.argmix(X) ==\", np.argmin(X, axis = 0)) # axis = 1, 행기준"
   ]
  },
  {
   "cell_type": "markdown",
   "id": "38fd1004",
   "metadata": {},
   "source": [
    "### 라이브러리 - matplotlib, scatter plot\n",
    "\n",
    "- 실무에서는 머신러닝 코드를 구현하기 전에,\n",
    "    - 입력 데이터의 분포와 모양을 먼저 그래프로 그려보고, 데이터의 특성과 분포를 파악한 후 어떤 알고리즘을 적용할 지 결정하고 있음\n",
    "    - 데이터 시각화를 위해서는 matplotlib 라이브러리를 사용함\n",
    "    - 일반적으로 line plot, scatter plot 등을 통해 데이터의 분포와 형태를 파악함"
   ]
  },
  {
   "cell_type": "code",
   "execution_count": 28,
   "id": "69551d7e",
   "metadata": {},
   "outputs": [
    {
     "data": {
      "image/png": "[encoded data removed]",
      "text/plain": [
       "<Figure size 432x288 with 1 Axes>"
      ]
     },
     "metadata": {
      "needs_background": "light"
     },
     "output_type": "display_data"
    }
   ],
   "source": [
    "import matplotlib.pyplot as plt\n",
    "import numpy as np\n",
    "\n",
    "# 주피터 노트북을 사용하는 경우 노트북 내부에 그림 표시\n",
    "%matplotlib inline\n",
    "\n",
    "# x data, y data 생성 / 0부터 1까지 100개 생성\n",
    "x_data = np.random.rand(100)\n",
    "y_data = np.random.rand(100)\n",
    "\n",
    "plt.title('scatter plot')\n",
    "plt.grid() # 그래프의 그리드 \n",
    "plt.scatter(x_data, y_data, color = 'b', marker = 'o') # 그래프의 종류(x,y 데이터의 범위, 그래프의 색깔, 마커의 종류)\n",
    "plt.show()"
   ]
  },
  {
   "cell_type": "code",
   "execution_count": 29,
   "id": "79b9793b",
   "metadata": {},
   "outputs": [
    {
     "data": {
      "image/png": "[encoded data removed]",
      "text/plain": [
       "<Figure size 432x288 with 1 Axes>"
      ]
     },
     "metadata": {
      "needs_background": "light"
     },
     "output_type": "display_data"
    }
   ],
   "source": [
    "import matplotlib.pyplot as plt\n",
    "\n",
    "# 주피터 노트북을 사용하는 경우 노트북 내부에 그림 표시\n",
    "%matplotlib inline\n",
    "\n",
    "x_data = [x for x in range(-5, 5)]\n",
    "y_data = [y*y for y in range(-5, 5)]\n",
    "\n",
    "plt.title('line plot')\n",
    "plt.grid()\n",
    "plt.plot(x_data, y_data, color = 'b')\n",
    "plt.show()"
   ]
  },
  {
   "cell_type": "code",
   "execution_count": 30,
   "id": "6452c90b",
   "metadata": {},
   "outputs": [
    {
     "data": {
      "image/png": "[encoded data removed]",
      "text/plain": [
       "<Figure size 432x288 with 1 Axes>"
      ]
     },
     "metadata": {
      "needs_background": "light"
     },
     "output_type": "display_data"
    }
   ],
   "source": [
    "import matplotlib.pyplot as plt\n",
    "\n",
    "# 주피터 노트북을 사용하는 경우 노트북 내부에 그림 표시\n",
    "%matplotlib inline\n",
    "\n",
    "x_data = [-3,-2, -1, 0, 1, 2, 3, 4, 5, 6, 7, 8, 9]\n",
    "y_data = [-8, -13, 0, 3, 6, -1, -5, -7, 1, 8, 7, 12, 13]\n",
    "\n",
    "plt.title('line plot')\n",
    "plt.grid()\n",
    "plt.plot(x_data, y_data, color = 'b')\n",
    "plt.show()"
   ]
  }
 ],
 "metadata": {
  "kernelspec": {
   "display_name": "Python 3 (ipykernel)",
   "language": "python",
   "name": "python3"
  },
  "language_info": {
   "codemirror_mode": {
    "name": "ipython",
    "version": 3
   },
   "file_extension": ".py",
   "mimetype": "text/x-python",
   "name": "python",
   "nbconvert_exporter": "python",
   "pygments_lexer": "ipython3",
   "version": "3.9.7"
  }
 },
 "nbformat": 4,
 "nbformat_minor": 5
}
