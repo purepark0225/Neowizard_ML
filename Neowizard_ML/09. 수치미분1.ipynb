{
 "cells": [
  {
   "cell_type": "markdown",
   "id": "14ab40e1",
   "metadata": {},
   "source": [
    "### 미분\n",
    "- 입력변수 x가 미세하게 변할 때, 함수 f가 얼마나 변하는지 알 수 있는 식을 구해라\n",
    "\n",
    "=> 입력 x를 현재 값에서 아주 조금 변화시키면, 함수 f(x)는 얼마나 변하는가?\n",
    "\n",
    "- 함수 f(x)는 입력 x의 미세한 변화에 얼마나 민감하게 반응하는지 알 수 있는 식을 구해라\n",
    "\n",
    "=> 함수 f(x)는 입력 x의 미세한 변화에 얼마나 민감하게 반응하는가? \n",
    "\n",
    "f(3) = 9 해석 => 입력 x = 3에서 출력은 9임을 읨\n",
    "\n",
    "f'(3) = 6 해석 => 입력 x = 3을 미세하게 변화시킬 때 함수는 현재 입력 값의 2배인 6배 변화를 일으킴을 의미"
   ]
  },
  {
   "cell_type": "markdown",
   "id": "0d139608",
   "metadata": {},
   "source": [
    "### 편미분 - partial derivative\n",
    "\n",
    "- 편미분은 입력변수가 하나 이상인 다변수 함수에서, 미분하고자 하는 변수 하나를 제외한 나머지 변수들은 상수로 취급하고, 해당 변수를 미분하는 것."
   ]
  },
  {
   "cell_type": "markdown",
   "id": "653e1147",
   "metadata": {},
   "source": [
    "### 연쇄법칙 - chain rule\n",
    "- 합성삼수란 여러 함수로 구성된 함수로서, 이러한 합성함수를 미분하려면 '합성함수를 구성하는 각 함수의 미분의 곱'으로 나타내는 chain rule(연쇄법칙) 이용"
   ]
  }
 ],
 "metadata": {
  "kernelspec": {
   "display_name": "Python 3 (ipykernel)",
   "language": "python",
   "name": "python3"
  },
  "language_info": {
   "codemirror_mode": {
    "name": "ipython",
    "version": 3
   },
   "file_extension": ".py",
   "mimetype": "text/x-python",
   "name": "python",
   "nbconvert_exporter": "python",
   "pygments_lexer": "ipython3",
   "version": "3.9.7"
  }
 },
 "nbformat": 4,
 "nbformat_minor": 5
}
