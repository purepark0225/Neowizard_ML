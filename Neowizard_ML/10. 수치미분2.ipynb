{
 "cells": [
  {
   "cell_type": "markdown",
   "id": "e1e6f4cc",
   "metadata": {},
   "source": [
    "### 수치미분 1차 버전 - numerical derivative\n",
    "- 수치미분은 수학공식을 쓰지 않고 C/파이썬 등을 이용하여, 주어진 입력값이 미세하게 변할 때 함수값 f는 얼마나 변하는 지를 계산해주는 것을 지칭"
   ]
  },
  {
   "cell_type": "code",
   "execution_count": 2,
   "id": "dcba7c74",
   "metadata": {},
   "outputs": [],
   "source": [
    "# 수치미분 구현 (1차 버전)\n",
    "# f는 미분하려는 함수, 외부에서 def, lambda등으로 정의됨\n",
    "# x는 미분값을 알고자하는 입력값, 즉 미세하게 변하는 입력값\n",
    "\n",
    "def numerical_derivative(f, x):\n",
    "    delta_x = 1e-4 # lim에 해당하는 아주 작은 값\n",
    "    return (f(x+delta_x) - f(x-delta_x)) / (2*delta_x) # 미분 구하는 방정식"
   ]
  },
  {
   "cell_type": "code",
   "execution_count": 3,
   "id": "35a7a2cb",
   "metadata": {},
   "outputs": [
    {
     "name": "stdout",
     "output_type": "stream",
     "text": [
      "result == 6.000000000012662\n"
     ]
    }
   ],
   "source": [
    "# 예제1) 함수 f(x) = x2 에서 미분계수 f'(3)을 구하기. 즉, x = 3 에서 값이 미세하게 변할 때, 함수 f는 얼마나 변하는지 계산하라는 의미\n",
    "\n",
    "def my_func1(x) :\n",
    "    return x ** 2\n",
    "\n",
    "def numerical_derivative(f, x):\n",
    "    delta_x = 1e-4\n",
    "    return (f(x+delta_x) - f(x-delta_x)) / (2*delta_x)\n",
    "\n",
    "result = numerical_derivative(my_func1, 3)\n",
    "\n",
    "print(\"result ==\", result)"
   ]
  },
  {
   "cell_type": "code",
   "execution_count": 8,
   "id": "c731c825",
   "metadata": {},
   "outputs": [
    {
     "name": "stdout",
     "output_type": "stream",
     "text": [
      "result == 66.50150507518049\n",
      "3*exp(2) + 3*2*exp(2) == 66.50150489037586\n"
     ]
    }
   ],
   "source": [
    "# 예제2) 함수 f(x) = 3xex를 미분한 함수를 f'(x)라고 할 경우, f'(2)을 구하기.\n",
    "# x = 2 에서 값이 미세하게 변할 떄, 함수 f는 얼마나 변하는지 계산하라는 의미\n",
    "\n",
    "import numpy as np\n",
    "\n",
    "def my_func2(x):\n",
    "    return 3*x*(np.exp(x))\n",
    "\n",
    "def numerical_derivative(f, x):\n",
    "    delta_x = 1e-4\n",
    "    return (f(x+delta_x) - f(x-delta_x)) / (2*delta_x)\n",
    "\n",
    "result = numerical_derivative(my_func2, 2)\n",
    "print(\"result ==\", result)\n",
    "\n",
    "print(\"3*exp(2) + 3*2*exp(2) == \", end = '')\n",
    "print(3*np.exp(2) + 3*2*np.exp(2))"
   ]
  }
 ],
 "metadata": {
  "kernelspec": {
   "display_name": "Python 3 (ipykernel)",
   "language": "python",
   "name": "python3"
  },
  "language_info": {
   "codemirror_mode": {
    "name": "ipython",
    "version": 3
   },
   "file_extension": ".py",
   "mimetype": "text/x-python",
   "name": "python",
   "nbconvert_exporter": "python",
   "pygments_lexer": "ipython3",
   "version": "3.9.7"
  }
 },
 "nbformat": 4,
 "nbformat_minor": 5
}
