{
 "cells": [
  {
   "cell_type": "markdown",
   "id": "ee071224",
   "metadata": {},
   "source": [
    "- 인공지능(Artificial Intelligence)\n",
    "인간의 학습능력, 추론능력 등을 컴퓨터를 통해 구현하는 포괄적인 개념\n",
    "\n",
    "- 머신러닝(Machine Learning)\n",
    "데이터를 이용하여 데이터 특성과 패턴을 학습하여, 그 결과를 바탕으로 미지의 데이터에 대한 그것의 미래 결과(값, 분포)를 예측\n",
    "* 데이터마이닝: 데이터 간의 상관관계나 속성을 찾는 것이 주목적\n",
    "    \n",
    "- 딥러닝(Deep Learning)\n",
    "머신러닝의 한 분야로서 신경망(Neural Network)을 통하여 학습하는 알고리즘의 집합"
   ]
  },
  {
   "cell_type": "markdown",
   "id": "ccf3b661",
   "metadata": {},
   "source": [
    "- 머신러닝\n",
    "    - 지도학습(Supervised)\n",
    "        - 회귀(Regression)\n",
    "        - 분류(Classification)\n",
    "        \n",
    "    - 비지도학습(Unsupervised)\n",
    "        - 군집화(Clustering)"
   ]
  },
  {
   "cell_type": "markdown",
   "id": "bc4fc32e",
   "metadata": {},
   "source": [
    "- 지도학습은 입력값(x)과 정답을 포함하는 training data를 이용하여 학습하고, 그 학습된 결과를 바탕으로 미지의 데이터(Test Data)에\n",
    "대해 미래 값을 예측하는 방법 => 대부분 머신러닝 문제는 지도학습에 해당됨\n",
    "\n",
    "ex1) 시험공부 시간(입력)과 P/F(정답)을 이용하여 당락 여부 예측\n",
    "ex2) 집 평수(입력)와 가격 데이터(정답) 이용하여 임의의 평수 가격 예측\n",
    "\n",
    "- 지도학습은 학습결과를 바탕으로, 미래의 무엇을 예측하느냐에 따라 회귀, 분류 등으로 구분할 수 있음.\n",
    "    - 회귀는 Training Data를 이용하여 연속적인 (숫자) 값을 예측하는 것을 말하며, 집평수와 가격 관계, 공부시간과 시험성적 등의 관계임 ex) Test data : 43시간일 때의 성적?\n",
    "    - 분류는 Training Data를 이용하여 주어진 입력값이 어떤 종류의 값인지 구별하는 것을 지칭함. ex) Test data : 43시간일 때의 Pass?"
   ]
  },
  {
   "cell_type": "markdown",
   "id": "3c796ca1",
   "metadata": {},
   "source": [
    "- Unsupervised Learning\n",
    "    - 비지도학습(Unsupervised Learning)은 트레이닝 데이터에 정답은 없고 입력 데이터만 있기 때문에, 입력에 대한 정답을 찾는 것이 입력데이터의 패턴, 특성 등을 학습을 통해 발견하는 방법을 말함\n",
    "    \n",
    "    ex) 군집화 알고리즘을 이용한 뉴스 그룹핑, 백화점의 상품 추천시스템 등"
   ]
  }
 ],
 "metadata": {
  "kernelspec": {
   "display_name": "Python 3 (ipykernel)",
   "language": "python",
   "name": "python3"
  },
  "language_info": {
   "codemirror_mode": {
    "name": "ipython",
    "version": 3
   },
   "file_extension": ".py",
   "mimetype": "text/x-python",
   "name": "python",
   "nbconvert_exporter": "python",
   "pygments_lexer": "ipython3",
   "version": "3.9.7"
  }
 },
 "nbformat": 4,
 "nbformat_minor": 5
}
