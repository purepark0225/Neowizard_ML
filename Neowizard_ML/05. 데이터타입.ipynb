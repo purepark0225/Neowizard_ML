{
 "cells": [
  {
   "cell_type": "code",
   "execution_count": 1,
   "id": "71fac8ae",
   "metadata": {},
   "outputs": [],
   "source": [
    "a = [10, 20, 30, 40, 50]"
   ]
  },
  {
   "cell_type": "code",
   "execution_count": 4,
   "id": "18105ab1",
   "metadata": {},
   "outputs": [
    {
     "name": "stdout",
     "output_type": "stream",
     "text": [
      "a[0:2] == [10, 20] , a[1:] == [20, 30, 40, 50]\n",
      "[10, 20, 30] [10, 20, 30]\n",
      "[10, 20, 30, 40, 50]\n"
     ]
    }
   ],
   "source": [
    "print(\"a[0:2] ==\", a[0:2], \", a[1:] ==\", a[1:])\n",
    "print(a[:3], a[:-2]) # a[:-2] => 인덱스 처음부터 -2-1까지\n",
    "print(a[:])"
   ]
  },
  {
   "cell_type": "markdown",
   "id": "1333eb60",
   "metadata": {},
   "source": [
    "### 데이터타입 - tuple\n",
    "\n",
    "- 튜플은 리스트와 거의 비슷하며 다른 점은 다음과 같음\n",
    "    - 리스트는 []으로 둘러싸지만 튜플은 ()으로 둘러싼다.\n",
    "    - 리스트 내의 원소를 변경할 수 있지만 튜플은 변경할 수 없다."
   ]
  },
  {
   "cell_type": "code",
   "execution_count": 5,
   "id": "9f047757",
   "metadata": {},
   "outputs": [
    {
     "name": "stdout",
     "output_type": "stream",
     "text": [
      "10 40 (10, 20, 30, 40, 50)\n",
      "(10, 20) (20, 30, 40, 50)\n"
     ]
    }
   ],
   "source": [
    "b = (10, 20, 30, 40, 50)\n",
    "\n",
    "print(b[0], b[-2], b[:])\n",
    "print(b[0:2], b[1:])"
   ]
  },
  {
   "cell_type": "code",
   "execution_count": 7,
   "id": "39e4e8a8",
   "metadata": {},
   "outputs": [
    {
     "ename": "TypeError",
     "evalue": "'tuple' object does not support item assignment",
     "output_type": "error",
     "traceback": [
      "\u001b[1;31m---------------------------------------------------------------------------\u001b[0m",
      "\u001b[1;31mTypeError\u001b[0m                                 Traceback (most recent call last)",
      "\u001b[1;32m~\\AppData\\Local\\Temp/ipykernel_24400/2811784855.py\u001b[0m in \u001b[0;36m<module>\u001b[1;34m\u001b[0m\n\u001b[1;32m----> 1\u001b[1;33m \u001b[0mb\u001b[0m\u001b[1;33m[\u001b[0m\u001b[1;36m0\u001b[0m\u001b[1;33m]\u001b[0m \u001b[1;33m=\u001b[0m \u001b[1;36m100\u001b[0m \u001b[1;31m# b[0] 값을 100으로 변경하려 하기 때문에 에러 발생\u001b[0m\u001b[1;33m\u001b[0m\u001b[1;33m\u001b[0m\u001b[0m\n\u001b[0m",
      "\u001b[1;31mTypeError\u001b[0m: 'tuple' object does not support item assignment"
     ]
    }
   ],
   "source": [
    "b[0] = 100 # b[0] 값을 100으로 변경하려 하기 때문에 에러 발생"
   ]
  },
  {
   "cell_type": "markdown",
   "id": "9dac9638",
   "metadata": {},
   "source": [
    "### 데이터타입 - dictionary\n",
    "- 딕셔너리는 다른 프로그래밍 언어의 '해시(hash)' 또는 '맵\n",
    "(map)'과 구조가 비슷\n",
    "- 딕셔너리는 키와 값을 한 쌍으로 해서 데이터를 저장함"
   ]
  },
  {
   "cell_type": "code",
   "execution_count": 9,
   "id": "505328de",
   "metadata": {},
   "outputs": [],
   "source": [
    "score = {\"KIM\" :90, \"LEE\" :85, \"JUN\":95} # dictionary 생성"
   ]
  },
  {
   "cell_type": "code",
   "execution_count": 11,
   "id": "45faa69f",
   "metadata": {},
   "outputs": [
    {
     "name": "stdout",
     "output_type": "stream",
     "text": [
      "score['KIM'] == 90\n"
     ]
    }
   ],
   "source": [
    "print(\"score['KIM'] ==\", score['KIM'])"
   ]
  },
  {
   "cell_type": "code",
   "execution_count": 12,
   "id": "395f455d",
   "metadata": {},
   "outputs": [
    {
     "name": "stdout",
     "output_type": "stream",
     "text": [
      "{'KIM': 90, 'LEE': 85, 'JUN': 95, 'HAN': 100}\n"
     ]
    }
   ],
   "source": [
    "score['HAN'] = 100 # 새 원소 추가\n",
    "# 딕셔너리는 입력한 순서대로 데이터가 들어가는 것이 아니므로 주의해야함\n",
    "\n",
    "print(score)"
   ]
  },
  {
   "cell_type": "code",
   "execution_count": 13,
   "id": "d752cf65",
   "metadata": {},
   "outputs": [
    {
     "name": "stdout",
     "output_type": "stream",
     "text": [
      "score key == dict_keys(['KIM', 'LEE', 'JUN', 'HAN'])\n",
      "score value == dict_values([90, 85, 95, 100])\n",
      "score items == dict_items([('KIM', 90), ('LEE', 85), ('JUN', 95), ('HAN', 100)])\n"
     ]
    }
   ],
   "source": [
    "# 딕셔너리 key, value, {key, value}\n",
    "\n",
    "print(\"score key ==\", score.keys())\n",
    "print(\"score value ==\", score.values())\n",
    "print(\"score items ==\", score.items())"
   ]
  },
  {
   "cell_type": "code",
   "execution_count": null,
   "id": "76f50796",
   "metadata": {},
   "outputs": [],
   "source": []
  },
  {
   "cell_type": "code",
   "execution_count": null,
   "id": "19d0883d",
   "metadata": {},
   "outputs": [],
   "source": []
  }
 ],
 "metadata": {
  "kernelspec": {
   "display_name": "Python 3 (ipykernel)",
   "language": "python",
   "name": "python3"
  },
  "language_info": {
   "codemirror_mode": {
    "name": "ipython",
    "version": 3
   },
   "file_extension": ".py",
   "mimetype": "text/x-python",
   "name": "python",
   "nbconvert_exporter": "python",
   "pygments_lexer": "ipython3",
   "version": "3.9.7"
  }
 },
 "nbformat": 4,
 "nbformat_minor": 5
}
