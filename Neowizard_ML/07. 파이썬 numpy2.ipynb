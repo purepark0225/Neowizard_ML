{
 "cells": [
  {
   "cell_type": "markdown",
   "id": "19703bf8",
   "metadata": {},
   "source": [
    "- 행렬 곱(dot product)\n",
    "    - A 행렬과 B 행렬의 행렬 곱(dot product)는 np.dot(A, B) 나타내며, 행렬 A의 열 벡터와 B 행렬의 행 벡터가 같아야 함. 만약 같지 않다면 **reshape 또는 전치행렬(transpose)등을 사용하여 형 변환을 한 후에 행렬 곱 실행해야 함**"
   ]
  },
  {
   "cell_type": "code",
   "execution_count": 3,
   "id": "e9546432",
   "metadata": {},
   "outputs": [
    {
     "name": "stdout",
     "output_type": "stream",
     "text": [
      "A.shape == (2, 3) , B.shape == (3, 2)\n",
      "C.shape == (2, 2)\n",
      "[[-22 -28]\n",
      " [-49 -64]]\n"
     ]
    }
   ],
   "source": [
    "import numpy as np\n",
    "\n",
    "A = np.array([ [1,2,3], [4,5,6] ]) # 2X3 행렬\n",
    "B = np.array([ [-1, -2], [-3,-4], [-5, -6] ]) # 3X2 행렬\n",
    "\n",
    "# (2X3) dot product(3X2) == (2X2) 행렬\n",
    "\n",
    "C = np.dot(A,B) # 행렬 곱 수행\n",
    "\n",
    "# matrix A, B 형상 출력 => shape\n",
    "print(\"A.shape ==\", A.shape, \", B.shape ==\", B.shape)\n",
    "print(\"C.shape ==\", C.shape)\n",
    "print(C)"
   ]
  },
  {
   "cell_type": "markdown",
   "id": "48095fe6",
   "metadata": {},
   "source": [
    "- 행렬 곱(dot product)\n",
    "    - 행렬 곱은 행렬의 원소 개수가 같아야만 계산할 수 있는 사칙연산의 한계를 벗어나 \n",
    "    1) 행렬 곱 조건을 만족하는 다양한 크기의 행렬을 연속으로 만들고 \n",
    "    2) 행렬 곱을 연속으로 계산하면서 \n",
    "    3) 결과값을 만들 수 있기 때문에 머신러닝과 이미지 프로세싱 분야에서 자주 사용됨\n",
    "    \n",
    "    [예] 입력 형상이 64 X 64 이고, 결과 행렬 형상이 64 X 10 이라면, 중간에 dot product를 만족시키는 어떤 형상의 행렬이라도 가질 수 있음.\n",
    "    \n",
    "    행렬 곱을 사용하지 않고 산술연산만 가능하다면, 입력 행렬의 64 X 64 크기를 가지는 특성 값 만을 사용해야 하기 때문에 다양한 특성을 갖는 필터 개발이 불가능함."
   ]
  },
  {
   "cell_type": "markdown",
   "id": "af20adbc",
   "metadata": {},
   "source": [
    "### 라이브러리 -  numpy broadcast\n",
    "- 행렬의 사칙연산은 기본적으로 두 개의 행렬 크기가 같은 경우에만 수행할 수 있음. 그러나 numpy에서는 크기가 다른 두 행렬 간에도 사칙연산을 할 수 있는데 이를 브로드캐스트(broadcast)라고 지칭함\n",
    "    - 차원이 작은 쪽이 큰 쪽의 행 단위로 반복적으로 크기를 맞춘 후에 계산\n",
    "    - 행렬 곱에는 적용이 불가함"
   ]
  },
  {
   "cell_type": "code",
   "execution_count": 4,
   "id": "1387da10",
   "metadata": {},
   "outputs": [
    {
     "name": "stdout",
     "output_type": "stream",
     "text": [
      "[[6 7]\n",
      " [8 9]]\n"
     ]
    }
   ],
   "source": [
    "A = np.array([ [1,2], [3,4] ])\n",
    "b = 5\n",
    "\n",
    "print(A+b)"
   ]
  },
  {
   "cell_type": "code",
   "execution_count": 5,
   "id": "2bd79156",
   "metadata": {},
   "outputs": [
    {
     "name": "stdout",
     "output_type": "stream",
     "text": [
      "[[5 7]\n",
      " [7 9]]\n"
     ]
    }
   ],
   "source": [
    "C = np.array([ [1,2], [3,4] ])\n",
    "D = np.array([4,5])\n",
    "\n",
    "print(C+D)"
   ]
  },
  {
   "cell_type": "markdown",
   "id": "f38de400",
   "metadata": {},
   "source": [
    "### 라이브러리 - numpy 전치행렬(transpose)\n",
    "\n",
    "- 전치행렬 (transpose)\n",
    "    - 어떤 행렬의 전치행렬(transposed matrix)은 원본 행렬의 열은 행으로, 행은 열로 바꾼 것으로서, 원본 행렬을 A라고 하면 전치행렬은 A.T로 나타냄. 즉, **1행은 1열로 바꾸고 2행은 2열로, 3행은 3열로 바꾼 행렬을 의미**"
   ]
  },
  {
   "cell_type": "code",
   "execution_count": 6,
   "id": "699734d5",
   "metadata": {},
   "outputs": [
    {
     "name": "stdout",
     "output_type": "stream",
     "text": [
      "A.shape == (3, 2) , B.shape == (2, 3)\n",
      "[[1 2]\n",
      " [3 4]\n",
      " [5 6]]\n",
      "[[1 3 5]\n",
      " [2 4 6]]\n"
     ]
    }
   ],
   "source": [
    "A = np.array([ [1,2], [3,4], [5,6] ]) # 3X2 행렬\n",
    "\n",
    "B = A.T # A의 전치행렬, 2X3 행렬\n",
    "\n",
    "print(\"A.shape ==\", A.shape, \", B.shape ==\", B.shape)\n",
    "print(A)\n",
    "print(B)"
   ]
  },
  {
   "cell_type": "code",
   "execution_count": 10,
   "id": "7160a359",
   "metadata": {},
   "outputs": [
    {
     "name": "stdout",
     "output_type": "stream",
     "text": [
      "C shape == (1, 5) , D.shape == (5, 1)\n",
      "E shape == (1, 5) , F.shape == (5, 1)\n",
      "[[1 2 3 4 5]]\n",
      "[[1]\n",
      " [2]\n",
      " [3]\n",
      " [4]\n",
      " [5]]\n"
     ]
    }
   ],
   "source": [
    "# vector 전치행렬\n",
    "\n",
    "C = np.array([1,2,3,4,5]) # vector임, matrix 아님 / matrix 로 만드려면 대괄호 안에 행렬 값을 넣어야 함.\n",
    "D = C.T # C는 vector 이므로 transpose 안됨\n",
    "\n",
    "E = C.reshape(1,5) # 1X5 matrix로 변경\n",
    "F = E.T # E의 전치행렬\n",
    "\n",
    "print(\"C shape ==\", C.shape, \", D.shape ==\", D.shape)\n",
    "print(\"E shape ==\", E.shape, \", F.shape ==\", F.shape)\n",
    "print(E)\n",
    "print(F)"
   ]
  },
  {
   "cell_type": "markdown",
   "id": "9e6214e1",
   "metadata": {},
   "source": [
    "### 라이브러리 - numpy 행렬 indexing / slicing\n",
    "\n",
    "- 행렬 원소 접근 (I)\n",
    "    - 행렬 원소를 명시적(explicit)으로 접근하기 위해서는 리스트(list)에서처럼, 인덱싱 / 슬라이싱 모두 사용 가능함."
   ]
  },
  {
   "cell_type": "code",
   "execution_count": 11,
   "id": "88612218",
   "metadata": {},
   "outputs": [
    {
     "name": "stdout",
     "output_type": "stream",
     "text": [
      "A.shape == (3, 2)\n",
      "[[10 20]\n",
      " [30 40]\n",
      " [50 60]]\n"
     ]
    }
   ],
   "source": [
    "# 예제1) A[0,0] 또는 A[0][0]은 1행 1열, A[2,1] 또는 A[2][1]은 3행 2열임\n",
    "\n",
    "A = np.array([10,20,30,40,50,60]).reshape(3,2)\n",
    "\n",
    "print(\"A.shape ==\", A.shape)\n",
    "print(A)"
   ]
  },
  {
   "cell_type": "code",
   "execution_count": 12,
   "id": "cebec337",
   "metadata": {},
   "outputs": [
    {
     "name": "stdout",
     "output_type": "stream",
     "text": [
      "A[0, 0] == 10 , A[0][0] == 10\n",
      "A[2, 1] == 60 , A[2][1] == 60\n"
     ]
    }
   ],
   "source": [
    "# 예제2) A[ : ,0]은 모든 행 1열을 나타냄\n",
    "\n",
    "print(\"A[0, 0] ==\", A[0,0], \", A[0][0] ==\", A[0][0])\n",
    "print(\"A[2, 1] ==\", A[2,1], \", A[2][1] ==\", A[2][1])"
   ]
  },
  {
   "cell_type": "code",
   "execution_count": 13,
   "id": "ba8a4d79",
   "metadata": {},
   "outputs": [
    {
     "name": "stdout",
     "output_type": "stream",
     "text": [
      "A[0:-1, 1:2] == [[20]\n",
      " [40]]\n"
     ]
    }
   ],
   "source": [
    "# 예제3) A[0:-1, 1:2] 인덱스 0인 1행부터, 인덱스 -1-1 = -2인 2행까지의 모든 데이터, \n",
    "# 그리고 인덱스 1인 2열부터 인덱스 2-1 = 1인 2열까지의 모든 데이터\n",
    "\n",
    "print(\"A[0:-1, 1:2] ==\", A[0:-1, 1:2]) # 1행~2행까지, 1열~1열까지의 데이터를 가져오기"
   ]
  },
  {
   "cell_type": "code",
   "execution_count": 15,
   "id": "106dbcaf",
   "metadata": {},
   "outputs": [
    {
     "name": "stdout",
     "output_type": "stream",
     "text": [
      "A[ : , 0] == [10 30 50]\n",
      "A[ :, :] == [[10 20]\n",
      " [30 40]\n",
      " [50 60]]\n"
     ]
    }
   ],
   "source": [
    "# 예제4) A[ : , : ]은 모든 행, 모든 열\n",
    "\n",
    "print(\"A[ : , 0] ==\", A[:, 0]) # 모든 행, 첫 번째 열\n",
    "print(\"A[ :, :] ==\", A[:,:]) # 모든 행, 모든 열"
   ]
  },
  {
   "cell_type": "markdown",
   "id": "99bcb620",
   "metadata": {},
   "source": [
    "### 라이브러리 - numpy 행렬 iterator\n",
    "- 행렬 원소 접근(II)\n",
    "    - 명시적(explicit) 인덱싱 / 슬라이싱 이외에, 행렬 모든 원소를 access 하는 경우에는 iterator 사용 가능\n",
    "    - numpy iterator는 C++, Java iterator처럼 next() 메서드를 통해 데이터 값을 처음부터 끝까지 순차적으로 읽어 들이는 방법을 제공"
   ]
  },
  {
   "cell_type": "code",
   "execution_count": 16,
   "id": "18945548",
   "metadata": {},
   "outputs": [
    {
     "name": "stdout",
     "output_type": "stream",
     "text": [
      "[[10 20 30 40]\n",
      " [50 60 70 80]] \n",
      "\n",
      "A.shape == (2, 4) \n",
      "\n",
      "current value =>  10\n",
      "current value =>  20\n",
      "current value =>  30\n",
      "current value =>  40\n",
      "current value =>  50\n",
      "current value =>  60\n",
      "current value =>  70\n",
      "current value =>  80\n"
     ]
    }
   ],
   "source": [
    "import numpy as np\n",
    "\n",
    "A = np.array([ [10, 20, 30, 40], [50, 60, 70, 80] ])\n",
    "\n",
    "print(A, \"\\n\")\n",
    "print(\"A.shape ==\", A.shape, \"\\n\")\n",
    "\n",
    "# 행렬 A의 iterator 생성\n",
    "\n",
    "it = np.nditer(A, flags = ['multi_index'], op_flags = ['readwrite'])\n",
    "\n",
    "while not it.finished:\n",
    "    idx = it.multi_index\n",
    "    print(\"current value => \", A[idx])\n",
    "    it.iternext()"
   ]
  }
 ],
 "metadata": {
  "kernelspec": {
   "display_name": "Python 3 (ipykernel)",
   "language": "python",
   "name": "python3"
  },
  "language_info": {
   "codemirror_mode": {
    "name": "ipython",
    "version": 3
   },
   "file_extension": ".py",
   "mimetype": "text/x-python",
   "name": "python",
   "nbconvert_exporter": "python",
   "pygments_lexer": "ipython3",
   "version": "3.9.7"
  }
 },
 "nbformat": 4,
 "nbformat_minor": 5
}
